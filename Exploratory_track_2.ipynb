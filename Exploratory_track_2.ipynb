{
 "cells": [
  {
   "cell_type": "code",
   "execution_count": 2,
   "metadata": {},
   "outputs": [],
   "source": [
    "import pandas as pd\n",
    "import numpy as np\n",
    "from collections import Counter"
   ]
  },
  {
   "cell_type": "code",
   "execution_count": 3,
   "metadata": {},
   "outputs": [],
   "source": [
    "def extract_values_with_fallback(csv_file, col_name, target_column, primary_value):\n",
    "    # Read the CSV file\n",
    "    df = pd.read_csv(csv_file)\n",
    "    \n",
    "    # Try finding rows where col_name matches primary_value\n",
    "    filtered_values = df.loc[df[col_name].isin(primary_value), target_column]\n",
    "    \n",
    "    # Convert the result to a NumPy array\n",
    "    result_array = filtered_values.to_numpy()\n",
    "    \n",
    "    return result_array"
   ]
  },
  {
   "cell_type": "code",
   "execution_count": 4,
   "metadata": {},
   "outputs": [],
   "source": [
    "#Note: for  this to work, you should have all the csv files with the same names inside the same directory as this notebook\n",
    "files = ['./data1_H9.csv','./data2_H2.csv','./data3_H7.csv','./data4_H6.csv','./data5_H8.csv','./data6_H8.csv','./data7_H4.csv','./data8_H5.csv','./data9_H2.csv','./data10_H2.csv','./data11_H1.csv','./data12_H2.csv','./data13_H1.csv','./data14_H1.csv', './data15_H1.csv', './data16_H1.csv', './data17_H1.csv', './data18_H1.csv']\n",
    "col_name = \"mouse_click\"               # target column name\n",
    "target_column = \"stim\"       # column whose values we want to extract"
   ]
  },
  {
   "cell_type": "code",
   "execution_count": 5,
   "metadata": {},
   "outputs": [
    {
     "name": "stdout",
     "output_type": "stream",
     "text": [
      "Most Healthy: {'orange': 17, 'redgrapes': 17, 'reddelicious': 17, 'banana': 17}\n"
     ]
    }
   ],
   "source": [
    "result_healthy =[]\n",
    "\n",
    "for i in range(len(files)):\n",
    "    ans = extract_values_with_fallback(files[i],col_name,target_column,[\"Very_Healthy\",\"Healthy\"])\n",
    "    #print(\"ID:\", i+1)\n",
    "    #print(ans)\n",
    "    result_healthy.append(ans)\n",
    "\n",
    "flattened_array = [item for sublist in result_healthy for item in sublist]  \n",
    "    \n",
    "    # Count occurrences of each value\n",
    "counts = Counter(flattened_array)\n",
    "    \n",
    "    # Find the maximum frequency\n",
    "max_count = max(counts.values())\n",
    "    \n",
    "    # Find all values with the maximum frequency\n",
    "most_frequent = {key: value for key, value in counts.items() if value == max_count}\n",
    "    \n",
    "print(\"Most Healthy:\",most_frequent)"
   ]
  },
  {
   "cell_type": "code",
   "execution_count": 6,
   "metadata": {},
   "outputs": [
    {
     "name": "stdout",
     "output_type": "stream",
     "text": [
      "Most Unhealthy:  {'Doritosranch': 18}\n"
     ]
    }
   ],
   "source": [
    "result_unhealthy = []\n",
    "\n",
    "for i in range(len(files)):\n",
    "    ans = extract_values_with_fallback(files[i],col_name,target_column,[\"Very_Unhealthy\",\"Unhealthy\"])\n",
    "    #print(\"ID:\", i+1)\n",
    "    #print(ans)\n",
    "    result_unhealthy.append(ans)\n",
    "\n",
    "flattened_array_unliked = [item for sublist in result_unhealthy for item in sublist]  \n",
    "    \n",
    "    # Count occurrences of each value\n",
    "counts_unliked = Counter(flattened_array_unliked)\n",
    "    \n",
    "    # Find the maximum frequency\n",
    "max_count_unliked = max(counts_unliked.values())\n",
    "    \n",
    "    # Find all values with the maximum frequency\n",
    "most_frequent_unliked = {key: value for key, value in counts_unliked.items() if value == max_count_unliked}\n",
    "    \n",
    "print(\"Most Unhealthy: \",most_frequent_unliked)"
   ]
  },
  {
   "cell_type": "code",
   "execution_count": null,
   "metadata": {},
   "outputs": [],
   "source": []
  }
 ],
 "metadata": {
  "kernelspec": {
   "display_name": "Python 3",
   "language": "python",
   "name": "python3"
  },
  "language_info": {
   "codemirror_mode": {
    "name": "ipython",
    "version": 3
   },
   "file_extension": ".py",
   "mimetype": "text/x-python",
   "name": "python",
   "nbconvert_exporter": "python",
   "pygments_lexer": "ipython3",
   "version": "3.11.4"
  }
 },
 "nbformat": 4,
 "nbformat_minor": 2
}
