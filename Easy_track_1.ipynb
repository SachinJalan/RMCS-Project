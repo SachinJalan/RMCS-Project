{
 "cells": [
  {
   "cell_type": "code",
   "execution_count": 1,
   "metadata": {},
   "outputs": [],
   "source": [
    "import pandas as pd\n",
    "import numpy as np"
   ]
  },
  {
   "cell_type": "code",
   "execution_count": 2,
   "metadata": {},
   "outputs": [],
   "source": [
    "def extract_values_healthy(csv_file, col_name, value_to_find, target_column):\n",
    "    # Read the CSV file\n",
    "    df = pd.read_csv(csv_file)\n",
    "    \n",
    "    # Filter rows where col_name has the value_to_find\n",
    "    filtered_values = df.loc[df[col_name].isin(value_to_find), target_column]\n",
    "    \n",
    "    # Convert the result to a NumPy array\n",
    "    result_array = filtered_values.to_numpy()\n",
    "    \n",
    "    return np.mean(result_array)"
   ]
  },
  {
   "cell_type": "code",
   "execution_count": 3,
   "metadata": {},
   "outputs": [
    {
     "name": "stdout",
     "output_type": "stream",
     "text": [
      "For ID:  1\n",
      "Healthy: 1484.2307692307693\n",
      "Unhealthy 1631.0357142857142\n",
      "For ID:  2\n",
      "Healthy: 1684.1818181818182\n",
      "Unhealthy 1863.4545454545455\n",
      "For ID:  3\n",
      "Healthy: 2242.0833333333335\n",
      "Unhealthy 2957.214285714286\n",
      "For ID:  4\n",
      "Healthy: 1610.076923076923\n",
      "Unhealthy 1624.5\n",
      "For ID:  5\n",
      "Healthy: 2196.818181818182\n",
      "Unhealthy 2075.0689655172414\n",
      "For ID:  6\n",
      "Healthy: 1636.111111111111\n",
      "Unhealthy 1862.5\n",
      "For ID:  7\n",
      "Healthy: 2108.5\n",
      "Unhealthy 2452.1071428571427\n",
      "For ID:  8\n",
      "Healthy: 2262.6315789473683\n",
      "Unhealthy 2298.0833333333335\n",
      "For ID:  9\n",
      "Healthy: 2052.1875\n",
      "Unhealthy 1807.1153846153845\n",
      "For ID:  10\n",
      "Healthy: 1902.7272727272727\n",
      "Unhealthy 2086.6923076923076\n",
      "For ID:  11\n",
      "Healthy: 2787.9375\n",
      "Unhealthy 3053.5\n",
      "For ID:  12\n",
      "Healthy: 2075.6428571428573\n",
      "Unhealthy 1983.9166666666667\n",
      "For ID:  13\n",
      "Healthy: 1390.8333333333333\n",
      "Unhealthy 1322.7631578947369\n",
      "For ID:  14\n",
      "Healthy: 1828.0833333333333\n",
      "Unhealthy 1997.6129032258063\n",
      "For ID:  15\n",
      "Healthy: 2502.0\n",
      "Unhealthy 1756.9333333333334\n",
      "For ID:  16\n",
      "Healthy: 1422.4\n",
      "Unhealthy 1491.4666666666667\n",
      "For ID:  17\n",
      "Healthy: 1888.65\n",
      "Unhealthy 2001.6666666666667\n",
      "For ID:  18\n",
      "Healthy: 2302.6923076923076\n",
      "Unhealthy 2422.9310344827586\n"
     ]
    }
   ],
   "source": [
    "files = ['./data1_H9.csv','./data2_H2.csv','./data3_H7.csv','./data4_H6.csv','./data5_H8.csv','./data6_H8.csv','./data7_H4.csv','./data8_H5.csv','./data9_H2.csv','./data10_H2.csv','./data11_H1.csv','./data12_H2.csv','./data13_H1.csv','./data14_H1.csv', './data15_H1.csv', './data16_H1.csv', './data17_H1.csv', './data18_H1.csv']\n",
    "\n",
    "for i in range(len(files)):\n",
    "    print(\"For ID: \",i+1)\n",
    "    healthy_array_mean = extract_values_healthy(files[i], 'mouse_click', ['Healthy','Very_Healthy'], 'stim_duration')\n",
    "    unhealthy_array_mean = extract_values_healthy(files[i], 'mouse_click', ['Unhealthy','Very_Unhealthy'], 'stim_duration')\n",
    "    print(\"Healthy:\", healthy_array_mean)\n",
    "    print(\"Unhealthy\", unhealthy_array_mean)"
   ]
  },
  {
   "cell_type": "code",
   "execution_count": null,
   "metadata": {},
   "outputs": [],
   "source": []
  }
 ],
 "metadata": {
  "kernelspec": {
   "display_name": "Python 3",
   "language": "python",
   "name": "python3"
  },
  "language_info": {
   "codemirror_mode": {
    "name": "ipython",
    "version": 3
   },
   "file_extension": ".py",
   "mimetype": "text/x-python",
   "name": "python",
   "nbconvert_exporter": "python",
   "pygments_lexer": "ipython3",
   "version": "3.11.4"
  }
 },
 "nbformat": 4,
 "nbformat_minor": 2
}
