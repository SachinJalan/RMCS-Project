{
 "cells": [
  {
   "cell_type": "code",
   "execution_count": 1,
   "metadata": {},
   "outputs": [],
   "source": [
    "import pandas as pd\n",
    "import numpy as np"
   ]
  },
  {
   "cell_type": "code",
   "execution_count": 2,
   "metadata": {},
   "outputs": [],
   "source": [
    "def extract_values_healthy(csv_file, col_name, value_to_find, target_column):\n",
    "    # Read the CSV file\n",
    "    df = pd.read_csv(csv_file)\n",
    "    \n",
    "    # Filter rows where col_name has the value_to_find\n",
    "    filtered_values = df.loc[df[col_name].isin(value_to_find), target_column]\n",
    "    \n",
    "    # Convert the result to a NumPy array\n",
    "    result_array = filtered_values.to_numpy()\n",
    "    \n",
    "    return np.mean(result_array)"
   ]
  },
  {
   "cell_type": "code",
   "execution_count": 3,
   "metadata": {},
   "outputs": [
    {
     "name": "stdout",
     "output_type": "stream",
     "text": [
      "For ID:  1\n",
      "Tasty: 2156.764705882353\n",
      "Not-tasty 2098.090909090909\n",
      "For ID:  2\n",
      "Tasty: 1592.0666666666666\n",
      "Not-tasty 2550.5\n",
      "For ID:  3\n",
      "Tasty: 1704.4285714285713\n",
      "Not-tasty 1897.9\n",
      "For ID:  4\n",
      "Tasty: 1749.0882352941176\n",
      "Not-tasty 1883.4285714285713\n",
      "For ID:  5\n",
      "Tasty: 1994.75\n",
      "Not-tasty 2591.125\n",
      "For ID:  6\n",
      "Tasty: 2487.705882352941\n",
      "Not-tasty 2961.5\n",
      "For ID:  7\n",
      "Tasty: 1688.5714285714287\n",
      "Not-tasty 1548.3333333333333\n",
      "For ID:  8\n",
      "Tasty: 1596.0\n",
      "Not-tasty 2494.0\n",
      "For ID:  9\n",
      "Tasty: 2208.766666666667\n",
      "Not-tasty 2345.1666666666665\n",
      "For ID:  10\n",
      "Tasty: 1953.5\n",
      "Not-tasty 2270.0\n",
      "For ID:  11\n",
      "Tasty: 2564.259259259259\n",
      "Not-tasty 2981.0\n",
      "For ID:  12\n",
      "Tasty: 2383.190476190476\n",
      "Not-tasty 2449.2727272727275\n",
      "For ID:  13\n",
      "Tasty: 1336.7575757575758\n",
      "Not-tasty 1723.0\n",
      "For ID:  14\n",
      "Tasty: 1859.5714285714287\n",
      "Not-tasty 2706.0\n",
      "For ID:  15\n",
      "Tasty: 1694.2105263157894\n",
      "Not-tasty 1733.5333333333333\n",
      "For ID:  16\n",
      "Tasty: 367.6\n",
      "Not-tasty 1268.0\n",
      "For ID:  17\n",
      "Tasty: 1774.5806451612902\n",
      "Not-tasty 1552.5\n",
      "For ID:  18\n",
      "Tasty: 1594.28\n",
      "Not-tasty 1755.909090909091\n"
     ]
    }
   ],
   "source": [
    "files = ['./data1_H9.csv','./data2_H2.csv','./data3_H7.csv','./data4_H6.csv','./data5_H8.csv','./data6_H8.csv','./data7_H4.csv','./data8_H5.csv','./data9_H2.csv','./data10_H2.csv','./data11_H1.csv','./data12_H2.csv','./data13_H1.csv','./data14_H1.csv', './data15_H1.csv', './data16_H1.csv', './data17_H1.csv', './data18_H1.csv']\n",
    "\n",
    "for i in range(len(files)):\n",
    "    print(\"For ID: \",i+1)\n",
    "    healthy_array_mean = extract_values_healthy(files[i], 'mouse_click', ['Good','Very_Good'], 'stim_duration')\n",
    "    unhealthy_array_mean = extract_values_healthy(files[i], 'mouse_click', ['Bad','Very_Bad'], 'stim_duration')\n",
    "    print(\"Tasty:\", healthy_array_mean)\n",
    "    print(\"Not-tasty\", unhealthy_array_mean)"
   ]
  },
  {
   "cell_type": "code",
   "execution_count": null,
   "metadata": {},
   "outputs": [],
   "source": []
  }
 ],
 "metadata": {
  "kernelspec": {
   "display_name": "Python 3",
   "language": "python",
   "name": "python3"
  },
  "language_info": {
   "codemirror_mode": {
    "name": "ipython",
    "version": 3
   },
   "file_extension": ".py",
   "mimetype": "text/x-python",
   "name": "python",
   "nbconvert_exporter": "python",
   "pygments_lexer": "ipython3",
   "version": "3.11.4"
  }
 },
 "nbformat": 4,
 "nbformat_minor": 2
}
